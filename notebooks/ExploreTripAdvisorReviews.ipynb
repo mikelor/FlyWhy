{
 "metadata": {
  "language_info": {
   "codemirror_mode": {
    "name": "ipython",
    "version": 3
   },
   "file_extension": ".py",
   "mimetype": "text/x-python",
   "name": "python",
   "nbconvert_exporter": "python",
   "pygments_lexer": "ipython3",
   "version": "3.8.6-final"
  },
  "orig_nbformat": 2,
  "kernelspec": {
   "name": "python3",
   "display_name": "Python 3"
  }
 },
 "nbformat": 4,
 "nbformat_minor": 2,
 "cells": [
  {
   "cell_type": "code",
   "execution_count": 24,
   "metadata": {},
   "outputs": [
    {
     "output_type": "execute_result",
     "data": {
      "text/plain": [
       "          Id  Rating                       Reviewer.Id    Reviewer.Name  \\\n",
       "0  778328113     5.0  224956834295EB15E82938CE0D4AE21F       Bzymamacee   \n",
       "1  778203051     1.0  A969E2C79332D4E1195BF0A1A3A25EE9     1eastbaydude   \n",
       "2  778200103     1.0  2E3F24A2D5FCF5557146289D4D077FBC      USVeteran14   \n",
       "3  778018567     5.0  D68B88C8D02C66C9BB902A34A16E7C2D           Bill R   \n",
       "4  777775364     2.0  684E6BF8BEAB355137F00F33EAF3B956  alexapaudelrio7   \n",
       "\n",
       "         Reviewer.Location Itinerary.Origin Itinerary.Destination  \\\n",
       "0      Anaheim, California      Los Angeles               Medford   \n",
       "1               California          Phoenix         San Francisco   \n",
       "2       Yakima, Washington          Seattle                Cancun   \n",
       "3     Northglenn, Colorado           Denver               Seattle   \n",
       "4  Paso Robles, California          Orlando              San Jose   \n",
       "\n",
       "  Itinerary.Region Itinerary.Cabin               Date     TravelDate  \\\n",
       "0         Domestic   Basic Economy   December 2, 2020  November 2020   \n",
       "1         Domestic         Economy  November 30, 2020  November 2020   \n",
       "2           Mexico   Basic Economy  November 30, 2020  November 2020   \n",
       "3         Domestic     First Class  November 27, 2020   October 2020   \n",
       "4         Domestic   Basic Economy  November 23, 2020  November 2020   \n",
       "\n",
       "                              Title  \\\n",
       "0                Clean and Friendly   \n",
       "1             poor customer service   \n",
       "2         Yes, you can go to Mexico   \n",
       "3  Wonderful First Class Experience   \n",
       "4                  Cancelled flight   \n",
       "\n",
       "                                                Text  \\\n",
       "0  Thanksgiving night was a very empty plane. We ...   \n",
       "1  between two roundtrip tickets, had seats assig...   \n",
       "2  Bought a round trip ticket from Seattle to Can...   \n",
       "3  Alaska, when possible, is our go to airline fo...   \n",
       "4  They just cancel flights without notice. Exped...   \n",
       "\n",
       "                                     CategoryRatings  \n",
       "0  {'Seat comfort': 5.0, 'Customer service': 5.0,...  \n",
       "1  {'Seat comfort': 2.0, 'Customer service': 3.0,...  \n",
       "2                                                 {}  \n",
       "3  {'Seat comfort': 5.0, 'Customer service': 5.0,...  \n",
       "4                                                 {}  "
      ],
      "text/html": "<div>\n<style scoped>\n    .dataframe tbody tr th:only-of-type {\n        vertical-align: middle;\n    }\n\n    .dataframe tbody tr th {\n        vertical-align: top;\n    }\n\n    .dataframe thead th {\n        text-align: right;\n    }\n</style>\n<table border=\"1\" class=\"dataframe\">\n  <thead>\n    <tr style=\"text-align: right;\">\n      <th></th>\n      <th>Id</th>\n      <th>Rating</th>\n      <th>Reviewer.Id</th>\n      <th>Reviewer.Name</th>\n      <th>Reviewer.Location</th>\n      <th>Itinerary.Origin</th>\n      <th>Itinerary.Destination</th>\n      <th>Itinerary.Region</th>\n      <th>Itinerary.Cabin</th>\n      <th>Date</th>\n      <th>TravelDate</th>\n      <th>Title</th>\n      <th>Text</th>\n      <th>CategoryRatings</th>\n    </tr>\n  </thead>\n  <tbody>\n    <tr>\n      <th>0</th>\n      <td>778328113</td>\n      <td>5.0</td>\n      <td>224956834295EB15E82938CE0D4AE21F</td>\n      <td>Bzymamacee</td>\n      <td>Anaheim, California</td>\n      <td>Los Angeles</td>\n      <td>Medford</td>\n      <td>Domestic</td>\n      <td>Basic Economy</td>\n      <td>December 2, 2020</td>\n      <td>November 2020</td>\n      <td>Clean and Friendly</td>\n      <td>Thanksgiving night was a very empty plane. We ...</td>\n      <td>{'Seat comfort': 5.0, 'Customer service': 5.0,...</td>\n    </tr>\n    <tr>\n      <th>1</th>\n      <td>778203051</td>\n      <td>1.0</td>\n      <td>A969E2C79332D4E1195BF0A1A3A25EE9</td>\n      <td>1eastbaydude</td>\n      <td>California</td>\n      <td>Phoenix</td>\n      <td>San Francisco</td>\n      <td>Domestic</td>\n      <td>Economy</td>\n      <td>November 30, 2020</td>\n      <td>November 2020</td>\n      <td>poor customer service</td>\n      <td>between two roundtrip tickets, had seats assig...</td>\n      <td>{'Seat comfort': 2.0, 'Customer service': 3.0,...</td>\n    </tr>\n    <tr>\n      <th>2</th>\n      <td>778200103</td>\n      <td>1.0</td>\n      <td>2E3F24A2D5FCF5557146289D4D077FBC</td>\n      <td>USVeteran14</td>\n      <td>Yakima, Washington</td>\n      <td>Seattle</td>\n      <td>Cancun</td>\n      <td>Mexico</td>\n      <td>Basic Economy</td>\n      <td>November 30, 2020</td>\n      <td>November 2020</td>\n      <td>Yes, you can go to Mexico</td>\n      <td>Bought a round trip ticket from Seattle to Can...</td>\n      <td>{}</td>\n    </tr>\n    <tr>\n      <th>3</th>\n      <td>778018567</td>\n      <td>5.0</td>\n      <td>D68B88C8D02C66C9BB902A34A16E7C2D</td>\n      <td>Bill R</td>\n      <td>Northglenn, Colorado</td>\n      <td>Denver</td>\n      <td>Seattle</td>\n      <td>Domestic</td>\n      <td>First Class</td>\n      <td>November 27, 2020</td>\n      <td>October 2020</td>\n      <td>Wonderful First Class Experience</td>\n      <td>Alaska, when possible, is our go to airline fo...</td>\n      <td>{'Seat comfort': 5.0, 'Customer service': 5.0,...</td>\n    </tr>\n    <tr>\n      <th>4</th>\n      <td>777775364</td>\n      <td>2.0</td>\n      <td>684E6BF8BEAB355137F00F33EAF3B956</td>\n      <td>alexapaudelrio7</td>\n      <td>Paso Robles, California</td>\n      <td>Orlando</td>\n      <td>San Jose</td>\n      <td>Domestic</td>\n      <td>Basic Economy</td>\n      <td>November 23, 2020</td>\n      <td>November 2020</td>\n      <td>Cancelled flight</td>\n      <td>They just cancel flights without notice. Exped...</td>\n      <td>{}</td>\n    </tr>\n  </tbody>\n</table>\n</div>"
     },
     "metadata": {},
     "execution_count": 24
    }
   ],
   "source": [
    "# If you are seeing the below error...\n",
    "#   RuntimeError: The current Numpy installation ('C:\\\\Users\\\\mikel\\\\.virtualenvs\\\\flywhy\\\\lib\\\\site-packages\\\\numpy\\\\__init__.py') fails to pass a \n",
    "#   sanity check due to a bug in the windows runtime. See this issue for more information: https://tinyurl.com/y3dm3h86\n",
    "#\n",
    "# There's a problem w/using Pandas on Windows 2004. If you want to live on the edge, download this insiders preview buuild\n",
    "# https://blogs.windows.com/windows-insider/2020/12/03/announcing-windows-10-insider-preview-build-20270/\n",
    "# \n",
    "import numpy as np\n",
    "import pandas as pd\n",
    "from pandas_profiling import ProfileReport\n",
    "\n",
    "reviews = pd.read_csv(\"../data/raw/TripAdvisor/AlaskaAirlineReviews.csv\")\n",
    "reviews.head()"
   ]
  },
  {
   "cell_type": "code",
   "execution_count": 25,
   "metadata": {},
   "outputs": [],
   "source": [
    "profile = ProfileReport(reviews, title=\"Pandas Profiling Report\", explorative=True)"
   ]
  },
  {
   "cell_type": "code",
   "execution_count": 26,
   "metadata": {},
   "outputs": [
    {
     "output_type": "stream",
     "name": "stderr",
     "text": [
      "Summarize dataset: 100%|██████████| 28/28 [00:07<00:00,  3.82it/s, Completed]\n",
      "Generate report structure: 100%|██████████| 1/1 [00:05<00:00,  5.39s/it]\n"
     ]
    },
    {
     "output_type": "display_data",
     "data": {
      "text/plain": "VBox(children=(Tab(children=(Tab(children=(GridBox(children=(VBox(children=(GridspecLayout(children=(HTML(valu…",
      "application/vnd.jupyter.widget-view+json": {
       "version_major": 2,
       "version_minor": 0,
       "model_id": "8c0b0295ab474a4ebfe4ed12561f5648"
      }
     },
     "metadata": {}
    }
   ],
   "source": [
    "profile.to_widgets()"
   ]
  },
  {
   "cell_type": "code",
   "execution_count": 27,
   "metadata": {},
   "outputs": [
    {
     "output_type": "stream",
     "name": "stderr",
     "text": [
      "Render HTML: 100%|██████████| 1/1 [00:01<00:00,  1.46s/it]\n",
      "Export report to file: 100%|██████████| 1/1 [00:00<00:00, 90.91it/s]\n"
     ]
    }
   ],
   "source": [
    "profile.to_file(\"output_reviews.html\")"
   ]
  },
  {
   "cell_type": "code",
   "execution_count": null,
   "metadata": {},
   "outputs": [],
   "source": [
    "import numpy\n",
    "import pandas as pd\n",
    "import"
   ]
  }
 ]
}